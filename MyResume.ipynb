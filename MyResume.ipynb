{
 "cells": [
  {
   "cell_type": "markdown",
   "metadata": {},
   "source": [
    "# 나의 이력서\n",
    "\n",
    "***\n",
    "\n",
    "![myPic](https://raw.githubusercontent.com/leehaesung/00-CertificateBox/master/00_CertificateBox/HaesungLee_PassPort.jpg)\n",
    "\n",
    "***\n",
    "\n",
    "## 이 해 성 (李 海 成)\n",
    "* 010-9284-1107\n",
    "* achasma@gmail.com\n",
    "* 서울특별시 성북구 동소문동\n",
    "\n",
    "***\n",
    "\n",
    "## 자기소개\n",
    " 저는 작년에 시드니에서 IT 소프트웨어개발 대학을 졸업했습니다. 작년 9월에 암수술을 시작해서 최근에 완전히 완치했습니다. 회복 기간동안에 용돈을 벌기위해서 2019년 설날전까지 11번가에서 홍삼즙을 약5천만원치를 파는 신기록을 깼습니다. 정말 기적같았습니다. 11번가에서 인터넷판매 사업경험을 하였습니다. 어느 신입 데이타엔지니어보다 11번가 유저인터페이스 경험이 강하다고 확신합니다. 3년전부터 저는 Coursera에서 통계, R, Python, SQL 프로그래밍, 데이타사이언스(머신러닝,딥러닝) 등을 이수하였습니다.\n",
    "\n",
    "***\n",
    "\n",
    "## 보유스킬\n",
    "\n",
    "* 프로그래밍: R, Python, PySpark, JavaScript, Node.JS, Node-RED, MySQl, C++, JAVA\n",
    "* AWS Cloud: Amzon EMR(Zeppline), SageMaker, S3, Glue, Athena, AWS-IoT Core\n",
    "* 자격증: 정보처리기사(1급)\n",
    "\n",
    "***\n",
    "\n",
    "## 교육\n",
    "\n",
    "* Sydney College of Business and IT, Sydney 웹개발\n",
    "* 서울과학기술대학교 제어계측공학과\n",
    "\n",
    "***\n",
    "\n",
    "## 경력\n",
    "\n",
    "* 카스전자\n",
    "* 신해전기건설\n",
    "* 코알라전자시스템\n",
    "* 제일테크\n",
    "\n",
    "***\n",
    "\n",
    "## 포트폴리오\n",
    "\n",
    "* [프로토타입(서울날씨)](https://twitter.com/aniotmaker)\n",
    "\n",
    "* [슬라이드셰어](https://www.slideshare.net/StephenHaesungLee/aws-iot-aws-greengrass-for-time-series-analysis-english-ver)\n",
    "\n",
    "* [주피터 뷰어](https://nbviewer.jupyter.org/github/leehaesung/seoul_weather_twitter_Analysis/blob/master/01_files/SeoulWeather_pm2p5c_csv.ipynb)\n"
   ]
  }
 ],
 "metadata": {
  "kernelspec": {
   "display_name": "Python 3",
   "language": "python",
   "name": "python3"
  },
  "language_info": {
   "codemirror_mode": {
    "name": "ipython",
    "version": 3
   },
   "file_extension": ".py",
   "mimetype": "text/x-python",
   "name": "python",
   "nbconvert_exporter": "python",
   "pygments_lexer": "ipython3",
   "version": "3.6.4"
  }
 },
 "nbformat": 4,
 "nbformat_minor": 2
}

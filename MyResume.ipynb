{
 "cells": [
  {
   "cell_type": "markdown",
   "metadata": {},
   "source": [
    "# 나의 이력서\n",
    "\n",
    "***\n",
    "\n",
    "![myPic](https://raw.githubusercontent.com/leehaesung/00-CertificateBox/master/00_CertificateBox/HaesungLee_PassPort.jpg)\n",
    "\n",
    "***\n",
    "\n",
    "## 이 해 성 (李 海 成)\n",
    "* 010-9284-1107\n",
    "* achasma@gmail.com\n",
    "* 서울특별시 성북구 동소문동1가 48번지\n",
    "\n",
    "***\n",
    "\n",
    "## 자기소개\n",
    " 저는 작년에 시드니에서 IT 소프트웨어개발 대학을 졸업했습니다. 작년 9월에 암수술을 시작해서 최근에 완전히 완치했습니다. 회복 기간동안에 용돈을 벌기위해서 2019년 설날전까지 11번가에서 홍삼즙을 약5천만원치를 파는 신기록을 깼습니다. 정말 기적같았습니다. 11번가에서 인터넷판매 사업경험을 하였습니다. 어느 신입 데이타엔지니어보다 11번가 유저인터페이스 경험이 강하다고 확신합니다. 3년전부터 저는 Coursera에서 통계, R, Python, SQL 프로그래밍, 하둡, 데이타사이언스(머신러닝,딥러닝) 등을 이수하였습니다.\n",
    "\n",
    "***\n",
    "\n",
    "## 보유스킬\n",
    "\n",
    "* 프로그래밍: R, Python, PySpark, JavaScript, Node.JS, Node-RED, MySQL, SQLite, C++, JAVA\n",
    "* AWS Cloud: Amzon EMR(Hadoop/Zeppline), SageMaker(Machine Learning), S3, Glue, Athena, AWS-IoT Core, kafka\n",
    "* BI: Tableau, AWS QuicSight, Grafana, Jupyter-notebook\n",
    "* Linux System 및 Bash Script 프로그래밍 가능\n",
    "* Grafana를 이용해 AWS CloudWatch 데이타시각화 및 모니터링\n",
    "* AWS Docker기반 데이타분석 인프라 구축\n",
    "* AWS 솔루션 아키텍트 자격증 준비중\n",
    "* 자격증: 정보처리기사(1급) 보유중\n",
    "\n",
    "***\n",
    "\n",
    "## 교육\n",
    "\n",
    "* Sydney College of Business and IT, Sydney, 소프트웨어개발 2015. 3. - 2018. 3.\n",
    "    * Web 개발, SQL, JavaScript, Node.JS, 소프트웨어개발론, 애자일\n",
    "* 서울과학기술대학교, 제어계측공학과 2003. 3. - 2007. 2.\n",
    "    * 전자공학, 리눅스임베디드, C, C++, MFC, 컴퓨터구조, 센서공학, 지능제어\n",
    "\n",
    "***\n",
    "\n",
    "## 경력\n",
    "\n",
    "* 카스전자 2009. 3 - 2009. 7.\n",
    "    * 전자개발 및 소프트웨어 엔지니어,\n",
    "* 코알라전자시스템 2015. 4 - 2016. 4.\n",
    "    * 통신모듈개발 및 설비, 소프트웨어 엔지니어\n",
    "* 제일테크 2016. 06 - 2018. 10.\n",
    "    * 통신감리, 설비, 개발\n",
    "\n",
    "***\n",
    "\n",
    "## 포트폴리오\n",
    "\n",
    "* [프로토타입(서울날씨)](https://twitter.com/aniotmaker)\n",
    "\n",
    "* [슬라이드셰어](https://www.slideshare.net/StephenHaesungLee/aws-iot-aws-greengrass-for-time-series-analysis-english-ver)\n",
    "\n",
    "* [주피터 뷰어](https://nbviewer.jupyter.org/github/leehaesung/seoul_weather_twitter_Analysis/blob/master/01_files/SeoulWeather_pm2p5c_csv.ipynb)\n",
    "\n",
    "\n",
    "\n"
   ]
  },
  {
   "cell_type": "code",
   "execution_count": 4,
   "metadata": {},
   "outputs": [],
   "source": [
    "# 끝가지 봐주셔서 감사합니다.\n",
    "# 귀사의 지원기회를 주셔서 감사합니다\n",
    "# 010-9284-1107 / 이해성"
   ]
  }
 ],
 "metadata": {
  "kernelspec": {
   "display_name": "Python 3",
   "language": "python",
   "name": "python3"
  },
  "language_info": {
   "codemirror_mode": {
    "name": "ipython",
    "version": 3
   },
   "file_extension": ".py",
   "mimetype": "text/x-python",
   "name": "python",
   "nbconvert_exporter": "python",
   "pygments_lexer": "ipython3",
   "version": "3.6.4"
  }
 },
 "nbformat": 4,
 "nbformat_minor": 2
}
